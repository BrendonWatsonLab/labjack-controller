{
 "cells": [
  {
   "cell_type": "markdown",
   "metadata": {},
   "source": [
    "# `labjack-controller` Demonstration Notebook\n",
    "---\n",
    "<h4><span style=\"color:gray\">Montgomery, University of Southern Maine</span></h4>"
   ]
  },
  {
   "cell_type": "markdown",
   "metadata": {},
   "source": [
    "## Notebook I: Implications of Configurations\n",
    "\n",
    "The majority of operations included in the `labjack-controller` library are very straightforward and require no explaination. However, there are some configurations of the LJM devices that ultimately lead to non-intuitive behavior. In this notebook, we attempt to explain these results and explain the root cause behind it."
   ]
  },
  {
   "cell_type": "code",
   "execution_count": null,
   "metadata": {},
   "outputs": [],
   "source": [
    "import pandas as pd\n",
    "import matplotlib.pyplot as plt"
   ]
  },
  {
   "cell_type": "markdown",
   "metadata": {},
   "source": [
    "This library is divided up into multiple objects; the two that we expect users to interact with is the `LabjackReader` object, which represents a LJM device (T4, T7, T7-Pro, and Digit devices in a very limited sense, and the `LJMLibrary` singleton, which controls global library functionality. It is very unlikely you will ever need to use `LJMLibrary` in most streaming applications."
   ]
  },
  {
   "cell_type": "code",
   "execution_count": null,
   "metadata": {},
   "outputs": [],
   "source": [
    "from labjackcontroller.labtools import LabjackReader, LJMLibrary"
   ]
  },
  {
   "cell_type": "markdown",
   "metadata": {},
   "source": [
    "### Step 1: Find a Labjack Device and Connect\n",
    "\n",
    "Before doing anything, let's play dumb and assume we don't know what devices are plugged in, and list all devices that the computer knows about. To do this, we need a reference to the base library."
   ]
  },
  {
   "cell_type": "code",
   "execution_count": null,
   "metadata": {},
   "outputs": [],
   "source": [
    "ljmlib_reference = LJMLibrary()"
   ]
  },
  {
   "cell_type": "markdown",
   "metadata": {},
   "source": [
    "Now, we can list all connected devices. Output format is in the format (device model, connection type, serial number, IP) We'll use the zeroth device we find."
   ]
  },
  {
   "cell_type": "code",
   "execution_count": null,
   "metadata": {},
   "outputs": [],
   "source": [
    "all_devices = ljmlib_reference.list_all()\n",
    "all_devices"
   ]
  },
  {
   "cell_type": "markdown",
   "metadata": {},
   "source": [
    "The default constructor for the `LabjackReader` expects you to give it at least a model name (\"T7\", for instance), and it will figure out the rest. This is great if you have a simple setup with only one or two devices, because the model is enough to serve as a unique identifier. In real life, this never happens, so you'll need to use the serial number or IP of the device as arguments to the `device_identifier` kwarg."
   ]
  },
  {
   "cell_type": "code",
   "execution_count": null,
   "metadata": {},
   "outputs": [],
   "source": [
    "# Connect to the zeroth device, using the model, connection type, and serial number we found.\n",
    "my_lj = LabjackReader(all_devices[0][:3])"
   ]
  },
  {
   "cell_type": "markdown",
   "metadata": {},
   "source": [
    "Before we proceed any further, it is important to understand that the method we connect to our LJM\n",
    "device will affect latency when communicating to this notebook. WiFi (a T7 Pro only feature) has the\n",
    "most latency, USB the second most, Ethernet has the least.\n",
    "\n",
    "The effect of this latency is to increase the amount of time between the device recording data and the notebook recieving it; this means when you plot device recorded time vs. system recorded time, there will be a notably offset along one axis. Additionally, if you are perofrming a time-sensitive realtime analysis of the data recorded by your LJM device, knowledge of the presence of this latency is important.\n",
    "\n",
    "While this latency varies on device, cable, firmware, and release of the `labjack-controller` library, we can get a general estimate on a Labjack T7 running firmware revision 1.046:\n",
    "\n",
    "|**Method**         | **USB High-High** | **USB Other** | **Ethernet** | **WiFi** |\n",
    "|-------------------|-------------------|---------------|--------------|----------|\n",
    "| No I/O - Overhead | 0.6 \t            | 2.2           | 1.1          | 6.7      |\n",
    "| Read All DI       | 0.7               | 2.3           | 1.2          | 6.8      |\n",
    "| Write All DO      | 0.7               | 2.3           | 1.2          | 6.8      |\n",
    "| Write Both DACs   | 0.7               | 2.3           | 1.2          | 6.8      |\n",
    "\n",
    "<span style=\"color:gray\">Courtesy Labjack, <i>Command-Response Data Rates.</i> All times are in milliseconds.</span>\n"
   ]
  },
  {
   "cell_type": "markdown",
   "metadata": {},
   "source": [
    "### Step 2: Streaming for a Labjack Device"
   ]
  },
  {
   "cell_type": "markdown",
   "metadata": {},
   "source": [
    "Moving on to actual data recording, we provide the function `collect_data` for streaming. This function has the following outline and characteristics:\n",
    "1. Connect to the LJM device, a process that takes about 1-2 seconds. `collect_data` will not try to open a connection if there is already one open, therefore, if you want to start a stream the moment an event occurs, you should pre-open a connection to the LJM device with the `open` function.\n",
    "2. Start a stream, a process that takes 1-2 seconds and cannot be avoided.\n",
    "2. Start the actual scan process by reading the values on all the specified channels and treating it like a row of data. This row is put into a data bundle of size \\#`inputs` + 2 (for the device and recieved times) by `scans_per_read` and conveyed over the provided connection using as many packets as needed. `scans_per_read` is clearly constrained by the scan frequency; if your scan freqency is 100 Hz and you set `scans_per_read` to be 50 Hz, you will get two data bundles per second.\n",
    "3. Scans record data of resolution `resolution`.\n",
    "\n",
    "There's a lot to unpack here, so we'll start from the top."
   ]
  },
  {
   "cell_type": "markdown",
   "metadata": {},
   "source": [
    "#### Step 2a: Setting `resolution`\n",
    "\n",
    "`resolution` changes the number of bits of precision that each data channel is recorded at. A higher resolution limits the maximum stream frequency, as each scan takes longer. This limitation varies by model, so the datatables are reproduced below.\n",
    "\n",
    "<table><tr><td><img src='images/t7_data.PNG'></td><td><img src='images/t4_data.PNG'></td></tr></table>\n",
    "\n",
    "In the `labjack-controller` package, the default resoultion is 4. Pick a setting that makes sense for your application."
   ]
  },
  {
   "cell_type": "markdown",
   "metadata": {},
   "source": [
    "#### Step 2b: Setting `scans_per_read`\n",
    "\n",
    "The reason why `scans_per_read` can be set by the user is due to the fact that you can safely pick a value in the range \\[1, frequency\\] and get meaningfully different data characteristics.\n",
    "\n",
    "When `scans_per_read` is small, each data row will have a on-device recorded time similar to the notebook's recorded recieving time, but you limit the frequency that can be effectively communicated at. When this parameter is similar to the frequency and `frequency` $\\gg 1$, the host system gets a batch of many rows recorded at multiple times all at once, which leads to a System Time vs Device Time graph that is non-linear and instead looks like a collection of ascending 90-degree turns.\n",
    "\n",
    "By default, `collect_data` configures this parameter to be as high as possible in order to max scanning at very high frequencies easy."
   ]
  },
  {
   "cell_type": "code",
   "execution_count": null,
   "metadata": {},
   "outputs": [],
   "source": [
    "# Scan the channel AIN0 in 10v mode for 15 seconds @ 10 kHz using the default scans_per_read\n",
    "my_lj.collect_data([\"AIN0\"], [10.0], 15, 10000, resolution=1)"
   ]
  },
  {
   "cell_type": "code",
   "execution_count": null,
   "metadata": {},
   "outputs": [],
   "source": [
    "# Note the effect that waiting to assemble large data transmissions has.\n",
    "datarun = my_lj.to_dataframe()\n",
    "datarun[['Time', 'System Time']].plot(figsize=(20, 20), x='Time', y='System Time')"
   ]
  },
  {
   "cell_type": "markdown",
   "metadata": {},
   "source": [
    "Now, let's demonstrate the effect of a small `scans_per_read`:"
   ]
  },
  {
   "cell_type": "code",
   "execution_count": null,
   "metadata": {},
   "outputs": [],
   "source": [
    "# Scan the channel AIN0 in 10v mode for 15 seconds @ 10 kHz using the default scans_per_read\n",
    "my_lj.collect_data([\"AIN0\"], [10.0], 15, 10000, resolution=1, scans_per_read=1)"
   ]
  },
  {
   "cell_type": "code",
   "execution_count": null,
   "metadata": {},
   "outputs": [],
   "source": [
    "# Our graph looks like a 45-degree line with a vertical offset to account to latency, as expected.\n",
    "datarun = my_lj.to_dataframe()\n",
    "datarun[['Time', 'System Time']].plot(figsize=(20, 20), x='Time', y='System Time')"
   ]
  }
 ],
 "metadata": {
  "kernelspec": {
   "display_name": "Python 3",
   "language": "python",
   "name": "python3"
  },
  "language_info": {
   "codemirror_mode": {
    "name": "ipython",
    "version": 3
   },
   "file_extension": ".py",
   "mimetype": "text/x-python",
   "name": "python",
   "nbconvert_exporter": "python",
   "pygments_lexer": "ipython3",
   "version": "3.7.1"
  }
 },
 "nbformat": 4,
 "nbformat_minor": 2
}
